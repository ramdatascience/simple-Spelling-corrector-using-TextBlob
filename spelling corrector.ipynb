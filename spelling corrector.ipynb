{
 "cells": [
  {
   "cell_type": "code",
   "execution_count": 1,
   "metadata": {},
   "outputs": [],
   "source": [
    "from textblob import TextBlob"
   ]
  },
  {
   "cell_type": "code",
   "execution_count": 2,
   "metadata": {},
   "outputs": [
    {
     "name": "stdout",
     "output_type": "stream",
     "text": [
      "Enter your Sentence:\twelcom ,yu are invted for tha functon\n",
      "original sentence welcom ,yu are invted for tha functon\n",
      "corrected Sentence welcome ,you are invited for the function\n"
     ]
    },
    {
     "data": {
      "text/plain": [
       "TextBlob(\"welcome ,you are invited for the function\")"
      ]
     },
     "execution_count": 2,
     "metadata": {},
     "output_type": "execute_result"
    }
   ],
   "source": [
    "def spel_correct(sentence):\n",
    "    tb = TextBlob(sentence)\n",
    "    correct = tb.correct()\n",
    "    print(\"original sentence\", sentence)\n",
    "    print(\"corrected Sentence\", correct)\n",
    "    return correct\n",
    "\n",
    "sen = input(\"Enter your Sentence:\\t\")\n",
    "spel_correct(sen)"
   ]
  },
  {
   "cell_type": "code",
   "execution_count": null,
   "metadata": {},
   "outputs": [],
   "source": []
  }
 ],
 "metadata": {
  "kernelspec": {
   "display_name": "Python 3",
   "language": "python",
   "name": "python3"
  },
  "language_info": {
   "codemirror_mode": {
    "name": "ipython",
    "version": 3
   },
   "file_extension": ".py",
   "mimetype": "text/x-python",
   "name": "python",
   "nbconvert_exporter": "python",
   "pygments_lexer": "ipython3",
   "version": "3.7.3"
  }
 },
 "nbformat": 4,
 "nbformat_minor": 4
}
